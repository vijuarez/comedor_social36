{
 "cells": [
  {
   "cell_type": "markdown",
   "metadata": {},
   "source": [
    "# Proyecto Grupo 36 - Comedor Social\n",
    "\n",
    "Esta es la implementación en Gurobi del proyecto presentado por el grupo 36.\n",
    "\n",
    "Dado N días, consideramos los siguientes parámetros:\n",
    "\n",
    "* $g_i$: cantidad de gente que llega el día $i$.\n",
    "* $c_a$: costo del alimento $a$.\n",
    "* $cs$: sueldo fijo del trabajor remunerado. (mensual)\n",
    "* $dm_i$: donaciones monetarias recibidas el día $i$ (total, de todas las fuentes).\n",
    "* $dc_{ia}$: cantidad de alimento $a$ que fue recibido como donación el día $i$.\n",
    "* $e$: entrada que se cobra para comer (200 CLP)\n",
    "* $d_a$: duración del alimento $a$\n",
    "* $ap_a$: $\\begin{cases}\n",
    "                    1 & \\text{si alimento $a$ es rico en proteinas.} \\\\\n",
    "                    0 & \\text{otro caso.}\n",
    "                \\end{cases}$\n",
    "* $ac_a$: $\\begin{cases}\n",
    "                    1 & \\text{si alimento $a$ es rico en carbohidratos.} \\\\\n",
    "                    0 & \\text{otro caso.}\n",
    "                \\end{cases}$\n",
    "* $av_a$: $\\begin{cases}\n",
    "                    1 & \\text{si alimento $a$ es una verdura.} \\\\\n",
    "                    0 & \\text{otro caso.}\n",
    "                \\end{cases}$\n",
    "* $af_a$: $\\begin{cases}\n",
    "                    1 & \\text{si alimento $a$ es una fruta.} \\\\\n",
    "                    0 & \\text{otro caso.}\n",
    "                \\end{cases}$\n",
    "* $v_a$: volumen que ocupa el alimento $a$.\n",
    "* $vmax$: volumen máximo de alimentos que se pueden almacenar en despensa.\n",
    "* $amax_i$: cantidad máxima de alimentos que los cocineros están dispuestos a incluir en la confección de un plato el día $i$.\n",
    "\n",
    "Estos parámetros se encuentran en el archivo `data.json`."
   ]
  },
  {
   "cell_type": "code",
   "execution_count": 1,
   "metadata": {},
   "outputs": [
    {
     "name": "stdout",
     "output_type": "stream",
     "text": [
      "Academic license - for non-commercial use only\n",
      "Dias: 10\n",
      "Alimentos: 20\n",
      "Sueldo_fijo: 200000\n",
      "Vol_max: 100\n",
      "Entrada: 250\n"
     ]
    },
    {
     "data": {
      "text/html": [
       "<table>\n",
       "<tbody>\n",
       "<tr><td>Dia</td><td>Alimentos Máximos</td><td>Donaciones Diarias</td><td>Visitantes</td></tr>\n",
       "<tr><td>0  </td><td>6                </td><td>0                 </td><td>183       </td></tr>\n",
       "<tr><td>1  </td><td>6                </td><td>0                 </td><td>200       </td></tr>\n",
       "<tr><td>2  </td><td>6                </td><td>9413              </td><td>164       </td></tr>\n",
       "<tr><td>3  </td><td>6                </td><td>8371              </td><td>119       </td></tr>\n",
       "<tr><td>4  </td><td>6                </td><td>22113             </td><td>123       </td></tr>\n",
       "<tr><td>5  </td><td>6                </td><td>21566             </td><td>189       </td></tr>\n",
       "<tr><td>6  </td><td>6                </td><td>6630              </td><td>144       </td></tr>\n",
       "<tr><td>7  </td><td>5                </td><td>34687             </td><td>107       </td></tr>\n",
       "<tr><td>8  </td><td>6                </td><td>33265             </td><td>173       </td></tr>\n",
       "<tr><td>9  </td><td>4                </td><td>27163             </td><td>156       </td></tr>\n",
       "</tbody>\n",
       "</table>"
      ],
      "text/plain": [
       "<IPython.core.display.HTML object>"
      ]
     },
     "metadata": {},
     "output_type": "display_data"
    },
    {
     "data": {
      "text/html": [
       "<table>\n",
       "<tbody>\n",
       "<tr><td>Alimento</td><td>Volumen Alimento</td><td>Duracion Alimento</td><td>Costo Alimento</td><td>Verdura</td><td>Fruta</td><td>Proteina</td><td>Carbohidrato</td></tr>\n",
       "<tr><td>0       </td><td>1               </td><td>35               </td><td>991           </td><td>0      </td><td>0    </td><td>0       </td><td>0           </td></tr>\n",
       "<tr><td>1       </td><td>1               </td><td>21               </td><td>1503          </td><td>1      </td><td>0    </td><td>1       </td><td>0           </td></tr>\n",
       "<tr><td>2       </td><td>1               </td><td>19               </td><td>1937          </td><td>1      </td><td>0    </td><td>1       </td><td>0           </td></tr>\n",
       "<tr><td>3       </td><td>1               </td><td>44               </td><td>1141          </td><td>1      </td><td>0    </td><td>0       </td><td>1           </td></tr>\n",
       "<tr><td>4       </td><td>1               </td><td>11               </td><td>1516          </td><td>0      </td><td>0    </td><td>0       </td><td>1           </td></tr>\n",
       "<tr><td>5       </td><td>1               </td><td>20               </td><td>1720          </td><td>0      </td><td>0    </td><td>0       </td><td>0           </td></tr>\n",
       "<tr><td>6       </td><td>1               </td><td>33               </td><td>1462          </td><td>0      </td><td>1    </td><td>0       </td><td>0           </td></tr>\n",
       "<tr><td>7       </td><td>1               </td><td>20               </td><td>1182          </td><td>0      </td><td>0    </td><td>1       </td><td>0           </td></tr>\n",
       "<tr><td>8       </td><td>1               </td><td>65               </td><td>1799          </td><td>0      </td><td>0    </td><td>1       </td><td>1           </td></tr>\n",
       "<tr><td>9       </td><td>1               </td><td>17               </td><td>2002          </td><td>0      </td><td>1    </td><td>0       </td><td>1           </td></tr>\n",
       "<tr><td>10      </td><td>1               </td><td>54               </td><td>1346          </td><td>1      </td><td>0    </td><td>0       </td><td>0           </td></tr>\n",
       "<tr><td>11      </td><td>1               </td><td>18               </td><td>1750          </td><td>0      </td><td>1    </td><td>0       </td><td>1           </td></tr>\n",
       "<tr><td>12      </td><td>1               </td><td>25               </td><td>1649          </td><td>0      </td><td>1    </td><td>0       </td><td>1           </td></tr>\n",
       "<tr><td>13      </td><td>1               </td><td>24               </td><td>1696          </td><td>1      </td><td>0    </td><td>0       </td><td>1           </td></tr>\n",
       "<tr><td>14      </td><td>1               </td><td>26               </td><td>1540          </td><td>0      </td><td>0    </td><td>1       </td><td>1           </td></tr>\n",
       "<tr><td>15      </td><td>1               </td><td>33               </td><td>1357          </td><td>0      </td><td>1    </td><td>0       </td><td>1           </td></tr>\n",
       "<tr><td>16      </td><td>1               </td><td>33               </td><td>1057          </td><td>0      </td><td>0    </td><td>1       </td><td>1           </td></tr>\n",
       "<tr><td>17      </td><td>1               </td><td>13               </td><td>1635          </td><td>1      </td><td>0    </td><td>0       </td><td>1           </td></tr>\n",
       "<tr><td>18      </td><td>1               </td><td>27               </td><td>1486          </td><td>1      </td><td>0    </td><td>1       </td><td>0           </td></tr>\n",
       "<tr><td>19      </td><td>1               </td><td>48               </td><td>1319          </td><td>0      </td><td>1    </td><td>0       </td><td>1           </td></tr>\n",
       "</tbody>\n",
       "</table>"
      ],
      "text/plain": [
       "<IPython.core.display.HTML object>"
      ]
     },
     "metadata": {},
     "output_type": "display_data"
    },
    {
     "data": {
      "text/html": [
       "<table>\n",
       "<tbody>\n",
       "<tr><td>Alimento</td><td>Día 0</td><td>Día 1</td><td>Día 2</td><td>Día 3</td><td>Día 4</td><td>Día 5</td><td>Día 6</td><td>Día 7</td><td>Día 8</td><td>Día 9</td></tr>\n",
       "<tr><td>0       </td><td>2    </td><td>9    </td><td>13   </td><td>10   </td><td>8    </td><td>6    </td><td>10   </td><td>5    </td><td>7    </td><td>13   </td></tr>\n",
       "<tr><td>1       </td><td>10   </td><td>7    </td><td>13   </td><td>12   </td><td>11   </td><td>8    </td><td>11   </td><td>10   </td><td>8    </td><td>8    </td></tr>\n",
       "<tr><td>2       </td><td>8    </td><td>8    </td><td>11   </td><td>9    </td><td>1    </td><td>12   </td><td>12   </td><td>16   </td><td>14   </td><td>9    </td></tr>\n",
       "<tr><td>3       </td><td>10   </td><td>13   </td><td>14   </td><td>10   </td><td>13   </td><td>3    </td><td>14   </td><td>7    </td><td>10   </td><td>11   </td></tr>\n",
       "<tr><td>4       </td><td>14   </td><td>7    </td><td>12   </td><td>13   </td><td>8    </td><td>9    </td><td>12   </td><td>10   </td><td>9    </td><td>10   </td></tr>\n",
       "<tr><td>5       </td><td>12   </td><td>2    </td><td>16   </td><td>12   </td><td>10   </td><td>15   </td><td>15   </td><td>10   </td><td>15   </td><td>5    </td></tr>\n",
       "<tr><td>6       </td><td>5    </td><td>9    </td><td>10   </td><td>9    </td><td>6    </td><td>14   </td><td>7    </td><td>9    </td><td>9    </td><td>10   </td></tr>\n",
       "<tr><td>7       </td><td>7    </td><td>18   </td><td>9    </td><td>11   </td><td>9    </td><td>4    </td><td>9    </td><td>9    </td><td>9    </td><td>1    </td></tr>\n",
       "<tr><td>8       </td><td>13   </td><td>11   </td><td>10   </td><td>8    </td><td>13   </td><td>9    </td><td>15   </td><td>10   </td><td>9    </td><td>5    </td></tr>\n",
       "<tr><td>9       </td><td>10   </td><td>6    </td><td>9    </td><td>14   </td><td>8    </td><td>9    </td><td>7    </td><td>6    </td><td>8    </td><td>11   </td></tr>\n",
       "<tr><td>10      </td><td>19   </td><td>8    </td><td>7    </td><td>13   </td><td>11   </td><td>4    </td><td>10   </td><td>7    </td><td>13   </td><td>6    </td></tr>\n",
       "<tr><td>11      </td><td>4    </td><td>9    </td><td>9    </td><td>8    </td><td>7    </td><td>14   </td><td>12   </td><td>10   </td><td>11   </td><td>8    </td></tr>\n",
       "<tr><td>12      </td><td>6    </td><td>11   </td><td>17   </td><td>5    </td><td>8    </td><td>10   </td><td>11   </td><td>9    </td><td>8    </td><td>6    </td></tr>\n",
       "<tr><td>13      </td><td>8    </td><td>6    </td><td>11   </td><td>14   </td><td>8    </td><td>8    </td><td>13   </td><td>11   </td><td>11   </td><td>10   </td></tr>\n",
       "<tr><td>14      </td><td>12   </td><td>10   </td><td>7    </td><td>14   </td><td>9    </td><td>11   </td><td>12   </td><td>6    </td><td>5    </td><td>6    </td></tr>\n",
       "<tr><td>15      </td><td>14   </td><td>5    </td><td>5    </td><td>8    </td><td>11   </td><td>5    </td><td>5    </td><td>12   </td><td>9    </td><td>8    </td></tr>\n",
       "<tr><td>16      </td><td>7    </td><td>7    </td><td>5    </td><td>11   </td><td>11   </td><td>9    </td><td>8    </td><td>11   </td><td>6    </td><td>11   </td></tr>\n",
       "<tr><td>17      </td><td>4    </td><td>13   </td><td>6    </td><td>6    </td><td>14   </td><td>14   </td><td>13   </td><td>7    </td><td>12   </td><td>6    </td></tr>\n",
       "<tr><td>18      </td><td>9    </td><td>13   </td><td>12   </td><td>9    </td><td>9    </td><td>11   </td><td>16   </td><td>10   </td><td>14   </td><td>6    </td></tr>\n",
       "<tr><td>19      </td><td>12   </td><td>6    </td><td>15   </td><td>10   </td><td>12   </td><td>7    </td><td>13   </td><td>9    </td><td>13   </td><td>7    </td></tr>\n",
       "</tbody>\n",
       "</table>"
      ],
      "text/plain": [
       "<IPython.core.display.HTML object>"
      ]
     },
     "metadata": {},
     "output_type": "display_data"
    }
   ],
   "source": [
    "from gurobipy import *\n",
    "import json\n",
    "\n",
    "from IPython.display import HTML, display\n",
    "import tabulate\n",
    "\n",
    "# Create a new model\n",
    "m = Model(\"Comedor social\")\n",
    "\n",
    "# parametros\n",
    "\n",
    "with open('data.json') as f:\n",
    "    data = json.loads(f.read())\n",
    "\n",
    "dias = [['Dia', 'Alimentos Máximos', 'Donaciones Diarias', 'Visitantes']]\n",
    "dias_temp = []\n",
    "alimentos = [['Alimento', 'Volumen Alimento', 'Duracion Alimento', 'Costo Alimento', 'Verdura', 'Fruta', 'Proteina', 'Carbohidrato']]\n",
    "alimentos_temp = []\n",
    "\n",
    "donaciones = [['Alimento'] + [f'Día {n}' for n in range(data['dias'])]]\n",
    "donaciones_temp = []\n",
    "\n",
    "    \n",
    "for k, i in data.items():\n",
    "    if isinstance(i, (int, float)):\n",
    "        print(k.capitalize() + ':', i)\n",
    "    elif isinstance(i, list):\n",
    "        if k in ('amax', 'donaciones_monetarias', 'visitas'):\n",
    "            dias_temp.append(i)\n",
    "        elif k != 'cantidad_alimento':\n",
    "            alimentos_temp.append(i)\n",
    "        else:\n",
    "            donaciones_temp.append(i)\n",
    "\n",
    "dias.extend(list(map(lambda x: [x[0]] + list(x[1]), ((x, n) for x, n in enumerate(zip(*dias_temp))))))\n",
    "alimentos.extend(list(map(lambda x: [x[0]] + list(x[1]), ((x, n) for x, n in enumerate(zip(*alimentos_temp))))))\n",
    "donaciones.extend(list(map(lambda x: [x[0]] + x[1][0], ((x, n) for x, n in enumerate(zip(*donaciones_temp))))))\n",
    "        \n",
    "display(HTML(tabulate.tabulate(dias, tablefmt='html')))\n",
    "display(HTML(tabulate.tabulate(alimentos, tablefmt='html')))\n",
    "display(HTML(tabulate.tabulate(donaciones, tablefmt='html')))"
   ]
  },
  {
   "cell_type": "markdown",
   "metadata": {},
   "source": [
    "## Variables\n",
    "* $x_{ai}$: cantidad de alimento $a$ que se compra en el día $i$.\n",
    "* $y_{ai}$ : cantidad de alimento $a$ que se utiliza en el día $i$\n",
    "* $I_{ai}$: cantidad del alimento $a$ que se almacena el día $i$.\n",
    "* $z_{i}$: dinero extra (no donaciones) usadas en el día $i$.\n",
    "* $s_{i}$: dinero sobrante en el día $i$."
   ]
  },
  {
   "cell_type": "code",
   "execution_count": 2,
   "metadata": {},
   "outputs": [],
   "source": [
    "# Create variables\n",
    "X = [[m.addVar(vtype=GRB.INTEGER, name=f\"Alimento {a} comprado dia {i}\") for a in range(data['alimentos'])] for i in range(data['dias'])]\n",
    "Y = [[m.addVar(vtype=GRB.INTEGER, name=f\"Alimento {a} usado dia {i}\") for a in range(data['alimentos'])] for i in range(data['dias'])]\n",
    "I = [[m.addVar(vtype=GRB.INTEGER, name=f\"Alimento {a} almacenado dia {i}\") for a in range(data['alimentos'])] for i in range(data['dias'])]\n",
    "extra = [m.addVar(vtype=GRB.INTEGER, name=f\"Dinero extra dia {i}\") for i in range(data['dias'])]\n",
    "surplus = [m.addVar(vtype=GRB.INTEGER, name=f\"Surplus el día {i}\") for i in range(data['dias'] + 1)]"
   ]
  },
  {
   "cell_type": "markdown",
   "metadata": {},
   "source": [
    "## Función objetivo\n",
    "$$\\text{min} \\sum_{i \\in D} z_i$$"
   ]
  },
  {
   "cell_type": "code",
   "execution_count": 3,
   "metadata": {},
   "outputs": [],
   "source": [
    "# Set objective\n",
    "m.setObjective(sum(extra[i] for i in range(data['dias'])), GRB.MINIMIZE)"
   ]
  },
  {
   "cell_type": "markdown",
   "metadata": {},
   "source": [
    "# Restricciones\n",
    "\n",
    "* Límite de gastos: el gasto diario de dinero no puede superar lo obtenido en donaciones ese día más lo que haya sobrado (lo obtenido menos lo gastado) de los días anteriores. Se incluye el costo diario que significa tener un trabajador remunerado.\n",
    "    $$\\sum_{a \\in A} c_a x_{ai} + \\frac{cs}{30.5} \\leq z_i + dm_i + g_i e + s_{i - 1}   \\quad\\quad\\quad     \\forall i \\in D$$\n",
    "* El surplus es el dinero restante de cada día:\n",
    "    $$ s_{i} = z_i + dm_i + g_i e + s_{i - 1} - (\\sum_{a \\in A} c_a x_{ai} + \\frac{cs}{30.5}) \\quad\\quad\\quad \\forall i \\in D$$\n",
    "* No hay dinero extra al comienzo de la optimización:\n",
    "    $$ s_{-1} = 0$$\n",
    "* No se puede usar más de lo que se tiene\n",
    "    $$y_{ai} \\leq x_{ai} + I_{a(i-1)}     \\quad\\quad\\quad     \\forall a \\in A, \\forall i \\in D$$\n",
    "* Inventario inicial\n",
    "    $$I_{a0} = 0     \\quad\\quad\\quad     \\forall a \\in A$$\n",
    "* Límite de almacenamiento\n",
    "    $$\\sum_{a \\in A} I_{ai} v_a \\leq vmax     \\quad\\quad\\quad     \\forall i \\in D$$\n",
    "* Una proteina mínimo por comida\n",
    "    $$ \\sum_{a \\in A} y_{ai}  ap_a \\geq g_i \\quad\\quad\\quad \\forall i \\in D $$\n",
    "* Un carbohidrato mínimo por comida\n",
    "    $$ \\sum_{a \\in A} y_{ai}  ac_a \\geq g_i \\quad\\quad\\quad \\forall i \\in D $$\n",
    "* Una verdura mínimo por comida\n",
    "    $$ \\sum_{a \\in A} y_{ai}  av_a \\geq g_i \\quad\\quad\\quad \\forall i \\in D $$\n",
    "* Una fruta mínimo por comida\n",
    "    $$ \\sum_{a \\in A} y_{ai}  af_a \\geq g_i \\quad\\quad\\quad \\forall i \\in D $$\n",
    "* Máximo de alimentos por plato de comida\n",
    "    $$ \\sum_{a \\in A} (y_{ai} af_a + y_{ai} av_a + y_{ai} ac_a + y_{ai} ap_a) \\leq amax_i g_i \\quad\\quad\\quad \\forall i \\in D$$\n",
    "* Caducidad de los Alimentos: para cada día y cada alimento, la totalidad de alimentos de cierto tipo recibidos (ya sea por compra o por donación) debe haberse utilizado en tantos días en el futuro como la caducidad de ese alimento. Como los alimentos más viejos siempre se utilizan primero, esto significa que para la fecha que los alimentos vencerian estos ya deben haber sido utilizados. La condición también se cumple en días que no ha habido compra o donación, siempre y cuando se cumpla en el día de la última compra/donación.\n",
    "    $$ \\sum_{j=1}^{i} (dc_{ja} + x_{aj}) \\leq \\sum_{j=1}^{i + d_a} y_{ja} \\quad\\quad\\quad \\forall a \\in A, \\forall i \\in D$$\n",
    "* Naturaleza de variables\n",
    "    $$x_{ai} \\geq 0     \\quad\\quad\\quad     \\forall a \\in A, \\forall i \\in D$$\n",
    "    $$y_{ai} \\geq 0     \\quad\\quad\\quad     \\forall a \\in A, \\forall i \\in D$$\n",
    "    $$I_{ai} \\geq 0     \\quad\\quad\\quad     \\forall a \\in A, \\forall i \\in D$$\n",
    "    $$s_{i}  \\geq 0     \\quad\\quad\\quad     \\forall i \\in D$$\n",
    "    $$x_{ai}, y_{ai}, I_{ai} \\in \\mathbb{N}\\cup\\{0\\}     \\quad\\quad\\quad     \\forall a \\in A, \\forall i \\in D$$"
   ]
  },
  {
   "cell_type": "code",
   "execution_count": 4,
   "metadata": {},
   "outputs": [],
   "source": [
    "# Add constraint\n",
    "m.addConstr(surplus[0] == 0, f'Surplus inicial')\n",
    "\n",
    "for a in range(data['alimentos']):\n",
    "    m.addConstr(I[0][a] == 0, f\"Inventario inicial del alimento {a}\")\n",
    "\n",
    "for i in range(data['dias']):\n",
    "    m.addConstr(sum(data['costo_alimento'][a] * X[i][a] for a in range(data['alimentos'])) + (data['sueldo_fijo'] / 30.5) <= extra[i] + data['donaciones_monetarias'][i] + data['visitas'][i] * data['entrada'] + surplus[i],\n",
    "                f\"Límite de gastos en el día {i}\")\n",
    "    m.addConstr(surplus[i + 1] <= extra[i] + data['donaciones_monetarias'][i] + data['visitas'][i] * data['entrada'] + surplus[i] - (sum(data['costo_alimento'][a] * X[i][a] for a in range(data['alimentos'])) + (data['sueldo_fijo'] / 30.5)),\n",
    "                f\"Surplus en el día {i}\")\n",
    "    m.addConstr(sum(I[i][a] * data['volumen_alimentos'][a] for a in range(data['alimentos'])) <= data['vol_max'],\n",
    "                f\"Límite de almacenamiento día {i}\")\n",
    "    m.addConstr(sum(Y[i][a] * data['proteina'][a] for a in range(data['alimentos'])) >= data['visitas'][i],\n",
    "                f\"Una proteina mínimo por comida día {i}\")\n",
    "    m.addConstr(sum(Y[i][a] * data['carbohidrato'][a] for a in range(data['alimentos'])) >= data['visitas'][i],\n",
    "                f\"Un carbohidrato mínimo por comida día {i}\")\n",
    "    m.addConstr(sum(Y[i][a] * data['verdura'][a] for a in range(data['alimentos'])) >= data['visitas'][i],\n",
    "                f\"Una verdura mínimo por comida día {i}\")\n",
    "    m.addConstr(sum(Y[i][a] * data['fruta'][a] for a in range(data['alimentos'])) >= data['visitas'][i],\n",
    "                f\"Una fruta mínimo por comida día {i}\")\n",
    "#    m.addConstr(sum(Y[i][a] * (data['proteina'][a] + data['carbohidrato'][a] + data['verdura'][a] + data['fruta'][a]) for a in range(data['alimentos'])) <= data['amax'][i] * data['visitas'][i],\n",
    "#                f\"Máximo de alimentos por plato de comida día {i}\")\n",
    "    m.addConstr(extra[i] >= 0, f\"Naturaleza de Z en dia {i}\")\n",
    "    m.addConstr(surplus[i] >= 0, f\"Naturaleza de s en dia {i}\")\n",
    "    for a in range(data['alimentos']):\n",
    "        m.addConstr(Y[i][a] <= X[i][a] + I[max(0, i - 1)][a] + data['cantidad_alimento'][a][i],\n",
    "                f\"No se puede usar más de lo que se tiene \")\n",
    "        #m.addConstr(sum(data['cantidad_alimento'][a][j] + X[j][a] for j in range(0, i + 1)) <= sum(Y[k][a] for k in range(0, min(data['dias'] - 1, i + data['duracion_alimentos'][a]))),\n",
    "        #        f\"Caducidad de los Alimentos\")\n",
    "        m.addConstr(X[i][a] >= 0, f\"Naturaleza de X en dia {i} y alimento {a}\")\n",
    "        m.addConstr(Y[i][a] >= 0, f\"Naturaleza de Y en dia {i} y alimento {a}\")\n",
    "        m.addConstr(I[i][a] >= 0, f\"Naturaleza de I en dia {i} y alimento {a}\")\n",
    "    "
   ]
  },
  {
   "cell_type": "markdown",
   "metadata": {},
   "source": [
    "# Resultado"
   ]
  },
  {
   "cell_type": "code",
   "execution_count": 5,
   "metadata": {
    "scrolled": false
   },
   "outputs": [
    {
     "name": "stdout",
     "output_type": "stream",
     "text": [
      "Optimize a model with 911 rows, 621 columns and 2211 nonzeros\n",
      "Variable types: 0 continuous, 621 integer (0 binary)\n",
      "Coefficient statistics:\n",
      "  Matrix range     [1e+00, 2e+03]\n",
      "  Objective range  [1e+00, 1e+00]\n",
      "  Bounds range     [0e+00, 0e+00]\n",
      "  RHS range        [1e+00, 7e+04]\n",
      "Found heuristic solution: objective 5289881.0000\n",
      "Presolve removed 863 rows and 415 columns\n",
      "Presolve time: 0.01s\n",
      "Presolved: 48 rows, 206 columns, 507 nonzeros\n",
      "Found heuristic solution: objective 5284839.0000\n",
      "Variable types: 0 continuous, 206 integer (0 binary)\n",
      "\n",
      "Root relaxation: objective 1.021883e+06, 63 iterations, 0.00 seconds\n",
      "\n",
      "    Nodes    |    Current Node    |     Objective Bounds      |     Work\n",
      " Expl Unexpl |  Obj  Depth IntInf | Incumbent    BestBd   Gap | It/Node Time\n",
      "\n",
      "*    0     0               0    1021883.0000 1021883.00  0.00%     -    0s\n",
      "\n",
      "Explored 0 nodes (63 simplex iterations) in 0.05 seconds\n",
      "Thread count was 2 (of 2 available processors)\n",
      "\n",
      "Solution count 3: 1.02188e+06 5.28484e+06 5.28484e+06 \n",
      "\n",
      "Optimal solution found (tolerance 1.00e-04)\n",
      "Best objective 1.021883000000e+06, best bound 1.021883000000e+06, gap 0.0000%\n",
      "Alimentos Comprados:\n"
     ]
    },
    {
     "data": {
      "text/html": [
       "<table>\n",
       "<tbody>\n",
       "<tr><td>Alimento   </td><td>Día 0     </td><td>Día 1     </td><td>Día 2    </td><td>Día 3    </td><td>Día 4    </td><td>Día 5     </td><td>Día 6    </td><td>Día 7</td><td>Día 8     </td><td>Día 9     </td></tr>\n",
       "<tr><td>Alimento 0 </td><td>0         </td><td>0         </td><td>0        </td><td>0        </td><td>0        </td><td>0         </td><td>0        </td><td>0    </td><td>0         </td><td>0         </td></tr>\n",
       "<tr><td>Alimento 1 </td><td>0         </td><td>0         </td><td>0        </td><td>0        </td><td>0        </td><td>0         </td><td>0        </td><td>0    </td><td>0         </td><td>0         </td></tr>\n",
       "<tr><td>Alimento 2 </td><td>0         </td><td>0         </td><td>0        </td><td>0        </td><td>0        </td><td>0         </td><td>0        </td><td>0    </td><td>0         </td><td>0         </td></tr>\n",
       "<tr><td>Alimento 3 </td><td>0         </td><td><b>6</b>  </td><td>0        </td><td><b>1</b> </td><td>0        </td><td><b>4</b>  </td><td>0        </td><td>0    </td><td>0         </td><td>0         </td></tr>\n",
       "<tr><td>Alimento 4 </td><td>0         </td><td>0         </td><td>0        </td><td>0        </td><td>0        </td><td>0         </td><td>0        </td><td>0    </td><td>0         </td><td>0         </td></tr>\n",
       "<tr><td>Alimento 5 </td><td>0         </td><td>0         </td><td>0        </td><td>0        </td><td>0        </td><td>0         </td><td>0        </td><td>0    </td><td>0         </td><td>0         </td></tr>\n",
       "<tr><td>Alimento 6 </td><td>0         </td><td>0         </td><td>0        </td><td>0        </td><td>0        </td><td>0         </td><td>0        </td><td>0    </td><td>0         </td><td>0         </td></tr>\n",
       "<tr><td>Alimento 7 </td><td>0         </td><td>0         </td><td>0        </td><td>0        </td><td>0        </td><td>0         </td><td>0        </td><td>0    </td><td>0         </td><td>0         </td></tr>\n",
       "<tr><td>Alimento 8 </td><td>0         </td><td>0         </td><td>0        </td><td>0        </td><td>0        </td><td>0         </td><td>0        </td><td>0    </td><td>0         </td><td>0         </td></tr>\n",
       "<tr><td>Alimento 9 </td><td>0         </td><td>0         </td><td>0        </td><td>0        </td><td>0        </td><td>0         </td><td>0        </td><td>0    </td><td>0         </td><td>0         </td></tr>\n",
       "<tr><td>Alimento 10</td><td>0         </td><td>0         </td><td>0        </td><td>0        </td><td>0        </td><td>0         </td><td>0        </td><td>0    </td><td>0         </td><td>0         </td></tr>\n",
       "<tr><td>Alimento 11</td><td>0         </td><td>0         </td><td>0        </td><td>0        </td><td>0        </td><td>0         </td><td>0        </td><td>0    </td><td>0         </td><td>0         </td></tr>\n",
       "<tr><td>Alimento 12</td><td>0         </td><td>0         </td><td>0        </td><td>0        </td><td>0        </td><td>0         </td><td>0        </td><td>0    </td><td>0         </td><td>0         </td></tr>\n",
       "<tr><td>Alimento 13</td><td>0         </td><td>0         </td><td>0        </td><td>0        </td><td>0        </td><td>0         </td><td>0        </td><td>0    </td><td>0         </td><td>0         </td></tr>\n",
       "<tr><td>Alimento 14</td><td>0         </td><td>0         </td><td>0        </td><td>0        </td><td>0        </td><td>0         </td><td>0        </td><td>0    </td><td>0         </td><td>0         </td></tr>\n",
       "<tr><td>Alimento 15</td><td>0         </td><td>0         </td><td>0        </td><td>0        </td><td>0        </td><td>0         </td><td>0        </td><td>0    </td><td>0         </td><td>0         </td></tr>\n",
       "<tr><td>Alimento 16</td><td><b>2</b>  </td><td>0         </td><td><b>7</b> </td><td>0        </td><td><b>4</b> </td><td>0         </td><td><b>6</b> </td><td>0    </td><td><b>17</b> </td><td><b>10</b> </td></tr>\n",
       "<tr><td>Alimento 17</td><td>0         </td><td>0         </td><td>0        </td><td>0        </td><td>0        </td><td>0         </td><td>0        </td><td>0    </td><td>0         </td><td>0         </td></tr>\n",
       "<tr><td>Alimento 18</td><td><b>115</b></td><td><b>126</b></td><td>0        </td><td>0        </td><td>0        </td><td><b>25</b> </td><td>0        </td><td>0    </td><td>0         </td><td>0         </td></tr>\n",
       "<tr><td>Alimento 19</td><td><b>132</b></td><td><b>154</b></td><td><b>89</b></td><td><b>10</b></td><td><b>27</b></td><td><b>130</b></td><td><b>44</b></td><td>0    </td><td><b>106</b></td><td><b>106</b></td></tr>\n",
       "</tbody>\n",
       "</table>"
      ],
      "text/plain": [
       "<IPython.core.display.HTML object>"
      ]
     },
     "metadata": {},
     "output_type": "display_data"
    },
    {
     "name": "stdout",
     "output_type": "stream",
     "text": [
      "Alimentos Usados:\n"
     ]
    },
    {
     "data": {
      "text/html": [
       "<table>\n",
       "<tbody>\n",
       "<tr><td>Alimento   </td><td>Día 0     </td><td>Día 1     </td><td>Día 2     </td><td>Día 3    </td><td>Día 4    </td><td>Día 5     </td><td>Día 6    </td><td>Día 7    </td><td>Día 8     </td><td>Día 9     </td></tr>\n",
       "<tr><td>Alimento 0 </td><td>0         </td><td>0         </td><td>0         </td><td>0        </td><td>0        </td><td>0         </td><td>0        </td><td>0        </td><td>0         </td><td>0         </td></tr>\n",
       "<tr><td>Alimento 1 </td><td><b>10</b> </td><td><b>7</b>  </td><td><b>103</b></td><td><b>57</b></td><td><b>11</b></td><td><b>8</b>  </td><td><b>11</b></td><td><b>49</b></td><td><b>8</b>  </td><td><b>8</b>  </td></tr>\n",
       "<tr><td>Alimento 2 </td><td><b>8</b>  </td><td><b>8</b>  </td><td><b>11</b> </td><td><b>9</b> </td><td><b>1</b> </td><td><b>112</b></td><td><b>12</b></td><td><b>16</b></td><td><b>14</b> </td><td><b>9</b>  </td></tr>\n",
       "<tr><td>Alimento 3 </td><td><b>10</b> </td><td><b>19</b> </td><td><b>14</b> </td><td><b>11</b></td><td><b>13</b></td><td><b>7</b>  </td><td><b>14</b></td><td><b>7</b> </td><td><b>10</b> </td><td><b>11</b> </td></tr>\n",
       "<tr><td>Alimento 4 </td><td><b>14</b> </td><td><b>7</b>  </td><td><b>12</b> </td><td><b>13</b></td><td><b>8</b> </td><td><b>9</b>  </td><td><b>12</b></td><td><b>10</b></td><td><b>9</b>  </td><td><b>10</b> </td></tr>\n",
       "<tr><td>Alimento 5 </td><td>0         </td><td>0         </td><td>0         </td><td>0        </td><td>0        </td><td>0         </td><td>0        </td><td>0        </td><td>0         </td><td>0         </td></tr>\n",
       "<tr><td>Alimento 6 </td><td><b>5</b>  </td><td><b>9</b>  </td><td><b>10</b> </td><td><b>64</b></td><td><b>6</b> </td><td><b>14</b> </td><td><b>7</b> </td><td><b>18</b></td><td><b>9</b>  </td><td><b>10</b> </td></tr>\n",
       "<tr><td>Alimento 7 </td><td><b>7</b>  </td><td><b>18</b> </td><td><b>9</b>  </td><td><b>11</b></td><td><b>9</b> </td><td><b>4</b>  </td><td><b>9</b> </td><td><b>9</b> </td><td><b>9</b>  </td><td><b>1</b>  </td></tr>\n",
       "<tr><td>Alimento 8 </td><td><b>13</b> </td><td><b>11</b> </td><td><b>10</b> </td><td><b>8</b> </td><td><b>13</b></td><td><b>9</b>  </td><td><b>15</b></td><td><b>10</b></td><td><b>9</b>  </td><td><b>5</b>  </td></tr>\n",
       "<tr><td>Alimento 9 </td><td><b>10</b> </td><td><b>6</b>  </td><td><b>9</b>  </td><td><b>14</b></td><td><b>8</b> </td><td><b>9</b>  </td><td><b>52</b></td><td><b>6</b> </td><td><b>8</b>  </td><td><b>11</b> </td></tr>\n",
       "<tr><td>Alimento 10</td><td><b>19</b> </td><td><b>8</b>  </td><td><b>7</b>  </td><td><b>13</b></td><td><b>11</b></td><td><b>4</b>  </td><td><b>10</b></td><td><b>7</b> </td><td><b>13</b> </td><td><b>6</b>  </td></tr>\n",
       "<tr><td>Alimento 11</td><td><b>4</b>  </td><td><b>9</b>  </td><td><b>9</b>  </td><td><b>8</b> </td><td><b>7</b> </td><td><b>14</b> </td><td><b>12</b></td><td><b>10</b></td><td><b>11</b> </td><td><b>8</b>  </td></tr>\n",
       "<tr><td>Alimento 12</td><td><b>6</b>  </td><td><b>11</b> </td><td><b>17</b> </td><td><b>5</b> </td><td><b>8</b> </td><td><b>10</b> </td><td><b>11</b></td><td><b>9</b> </td><td><b>8</b>  </td><td><b>6</b>  </td></tr>\n",
       "<tr><td>Alimento 13</td><td><b>8</b>  </td><td><b>6</b>  </td><td><b>11</b> </td><td><b>14</b></td><td><b>8</b> </td><td><b>8</b>  </td><td><b>13</b></td><td><b>11</b></td><td><b>11</b> </td><td><b>10</b> </td></tr>\n",
       "<tr><td>Alimento 14</td><td><b>12</b> </td><td><b>10</b> </td><td><b>7</b>  </td><td><b>14</b></td><td><b>9</b> </td><td><b>11</b> </td><td><b>12</b></td><td><b>6</b> </td><td><b>5</b>  </td><td><b>6</b>  </td></tr>\n",
       "<tr><td>Alimento 15</td><td><b>14</b> </td><td><b>5</b>  </td><td><b>5</b>  </td><td><b>8</b> </td><td><b>11</b></td><td><b>5</b>  </td><td><b>5</b> </td><td><b>64</b></td><td><b>18</b> </td><td><b>8</b>  </td></tr>\n",
       "<tr><td>Alimento 16</td><td><b>9</b>  </td><td><b>7</b>  </td><td><b>12</b> </td><td><b>11</b></td><td><b>15</b></td><td><b>9</b>  </td><td><b>14</b></td><td><b>11</b></td><td><b>23</b> </td><td><b>21</b> </td></tr>\n",
       "<tr><td>Alimento 17</td><td><b>4</b>  </td><td><b>13</b> </td><td><b>6</b>  </td><td><b>6</b> </td><td><b>14</b></td><td><b>14</b> </td><td><b>13</b></td><td><b>7</b> </td><td><b>12</b> </td><td><b>6</b>  </td></tr>\n",
       "<tr><td>Alimento 18</td><td><b>124</b></td><td><b>139</b></td><td><b>12</b> </td><td><b>9</b> </td><td><b>65</b></td><td><b>36</b> </td><td><b>71</b></td><td><b>10</b></td><td><b>105</b></td><td><b>106</b></td></tr>\n",
       "<tr><td>Alimento 19</td><td><b>144</b></td><td><b>160</b></td><td><b>114</b></td><td><b>20</b></td><td><b>83</b></td><td><b>137</b></td><td><b>57</b></td><td><b>9</b> </td><td><b>119</b></td><td><b>113</b></td></tr>\n",
       "</tbody>\n",
       "</table>"
      ],
      "text/plain": [
       "<IPython.core.display.HTML object>"
      ]
     },
     "metadata": {},
     "output_type": "display_data"
    },
    {
     "name": "stdout",
     "output_type": "stream",
     "text": [
      "Alimentos Guardados:\n"
     ]
    },
    {
     "data": {
      "text/html": [
       "<table>\n",
       "<tbody>\n",
       "<tr><td>Alimento   </td><td>Día 0</td><td>Día 1</td><td>Día 2</td><td>Día 3</td><td>Día 4</td><td>Día 5</td><td>Día 6</td><td>Día 7</td><td>Día 8</td><td>Día 9</td></tr>\n",
       "<tr><td>Alimento 0 </td><td>0    </td><td>0    </td><td>0    </td><td>0    </td><td>0    </td><td>0    </td><td>0    </td><td>0    </td><td>0    </td><td>0    </td></tr>\n",
       "<tr><td>Alimento 1 </td><td>0    </td><td>0    </td><td>0    </td><td>0    </td><td>0    </td><td>0    </td><td>0    </td><td>0    </td><td>0    </td><td>0    </td></tr>\n",
       "<tr><td>Alimento 2 </td><td>0    </td><td>0    </td><td>0    </td><td>0    </td><td>0    </td><td>0    </td><td>0    </td><td>0    </td><td>0    </td><td>0    </td></tr>\n",
       "<tr><td>Alimento 3 </td><td>0    </td><td>0    </td><td>0    </td><td>0    </td><td>0    </td><td>0    </td><td>0    </td><td>0    </td><td>0    </td><td>0    </td></tr>\n",
       "<tr><td>Alimento 4 </td><td>0    </td><td>0    </td><td>0    </td><td>0    </td><td>0    </td><td>0    </td><td>0    </td><td>0    </td><td>0    </td><td>0    </td></tr>\n",
       "<tr><td>Alimento 5 </td><td>0    </td><td>0    </td><td>0    </td><td>0    </td><td>0    </td><td>0    </td><td>0    </td><td>0    </td><td>0    </td><td>0    </td></tr>\n",
       "<tr><td>Alimento 6 </td><td>0    </td><td>0    </td><td>0    </td><td>0    </td><td>0    </td><td>0    </td><td>0    </td><td>0    </td><td>0    </td><td>0    </td></tr>\n",
       "<tr><td>Alimento 7 </td><td>0    </td><td>0    </td><td>0    </td><td>0    </td><td>0    </td><td>0    </td><td>0    </td><td>0    </td><td>0    </td><td>0    </td></tr>\n",
       "<tr><td>Alimento 8 </td><td>0    </td><td>0    </td><td>0    </td><td>0    </td><td>0    </td><td>0    </td><td>0    </td><td>0    </td><td>0    </td><td>0    </td></tr>\n",
       "<tr><td>Alimento 9 </td><td>0    </td><td>0    </td><td>0    </td><td>0    </td><td>0    </td><td>0    </td><td>0    </td><td>0    </td><td>0    </td><td>0    </td></tr>\n",
       "<tr><td>Alimento 10</td><td>0    </td><td>0    </td><td>0    </td><td>0    </td><td>0    </td><td>0    </td><td>0    </td><td>0    </td><td>0    </td><td>0    </td></tr>\n",
       "<tr><td>Alimento 11</td><td>0    </td><td>0    </td><td>0    </td><td>0    </td><td>0    </td><td>0    </td><td>0    </td><td>0    </td><td>0    </td><td>0    </td></tr>\n",
       "<tr><td>Alimento 12</td><td>0    </td><td>0    </td><td>0    </td><td>0    </td><td>0    </td><td>0    </td><td>0    </td><td>0    </td><td>0    </td><td>0    </td></tr>\n",
       "<tr><td>Alimento 13</td><td>0    </td><td>0    </td><td>0    </td><td>0    </td><td>0    </td><td>0    </td><td>0    </td><td>0    </td><td>0    </td><td>0    </td></tr>\n",
       "<tr><td>Alimento 14</td><td>0    </td><td>0    </td><td>0    </td><td>0    </td><td>0    </td><td>0    </td><td>0    </td><td>0    </td><td>0    </td><td>0    </td></tr>\n",
       "<tr><td>Alimento 15</td><td>0    </td><td>0    </td><td>0    </td><td>0    </td><td>0    </td><td>0    </td><td>0    </td><td>0    </td><td>0    </td><td>0    </td></tr>\n",
       "<tr><td>Alimento 16</td><td>0    </td><td>0    </td><td>0    </td><td>0    </td><td>0    </td><td>0    </td><td>0    </td><td>0    </td><td>0    </td><td>0    </td></tr>\n",
       "<tr><td>Alimento 17</td><td>0    </td><td>0    </td><td>0    </td><td>0    </td><td>0    </td><td>0    </td><td>0    </td><td>0    </td><td>0    </td><td>0    </td></tr>\n",
       "<tr><td>Alimento 18</td><td>0    </td><td>0    </td><td>0    </td><td>0    </td><td>0    </td><td>0    </td><td>0    </td><td>0    </td><td>0    </td><td>0    </td></tr>\n",
       "<tr><td>Alimento 19</td><td>0    </td><td>0    </td><td>0    </td><td>0    </td><td>0    </td><td>0    </td><td>0    </td><td>0    </td><td>0    </td><td>0    </td></tr>\n",
       "</tbody>\n",
       "</table>"
      ],
      "text/plain": [
       "<IPython.core.display.HTML object>"
      ]
     },
     "metadata": {},
     "output_type": "display_data"
    },
    {
     "name": "stdout",
     "output_type": "stream",
     "text": [
      "Dinero Diario Extra:\n"
     ]
    },
    {
     "data": {
      "text/html": [
       "<table>\n",
       "<tbody>\n",
       "<tr><td>Día  </td><td>Dinero Extra Usado</td><td>Surplus del día</td></tr>\n",
       "<tr><td>Día 0</td><td><b>661686</b>     </td><td><b>353766</b>  </td></tr>\n",
       "<tr><td>Día 1</td><td>0                 </td><td>0              </td></tr>\n",
       "<tr><td>Día 2</td><td><b>208165</b>     </td><td><b>127230</b>  </td></tr>\n",
       "<tr><td>Día 3</td><td>0                 </td><td><b>144462</b>  </td></tr>\n",
       "<tr><td>Día 4</td><td>0                 </td><td><b>150926</b>  </td></tr>\n",
       "<tr><td>Día 5</td><td>0                 </td><td>0              </td></tr>\n",
       "<tr><td>Día 6</td><td><b>28306</b>      </td><td>0              </td></tr>\n",
       "<tr><td>Día 7</td><td>0                 </td><td><b>54879</b>   </td></tr>\n",
       "<tr><td>Día 8</td><td><b>123726</b>     </td><td><b>90779</b>   </td></tr>\n",
       "<tr><td>Día 9</td><td>0                 </td><td>0              </td></tr>\n",
       "</tbody>\n",
       "</table>"
      ],
      "text/plain": [
       "<IPython.core.display.HTML object>"
      ]
     },
     "metadata": {},
     "output_type": "display_data"
    },
    {
     "name": "stdout",
     "output_type": "stream",
     "text": [
      "Gasto total de dinero: 1.02188e+06\n"
     ]
    }
   ],
   "source": [
    "m.optimize()\n",
    "\n",
    "comprado = []\n",
    "usado = []\n",
    "guardado = []\n",
    "extra = []\n",
    "\n",
    "for v in m.getVars():\n",
    "    if 'comprado' in v.varname:\n",
    "        comprado.append(v)\n",
    "    elif 'usado' in v.varname:\n",
    "        usado.append(v)\n",
    "    elif 'guardado' in v.varname:\n",
    "        guardado.append(v)\n",
    "    elif 'extra' in v.varname:\n",
    "        extra.append(v)\n",
    "    elif 'Surplus' in v.varname:\n",
    "        surplus.append(v)\n",
    "\n",
    "comprado_temp = [['Alimento'] + [f'Día {a}' for a in range(data['dias'])]]\n",
    "comprado_temp.extend([[f'Alimento {a}'] + [0 for a in range(data['dias'])] for a in range(data['alimentos'])])\n",
    "\n",
    "usado_temp = [['Alimento'] + [f'Día {a}' for a in range(data['dias'])]]\n",
    "usado_temp.extend([[f'Alimento {a}'] + [0 for a in range(data['dias'])] for a in range(data['alimentos'])])\n",
    "\n",
    "guardado_temp = [['Alimento'] + [f'Día {a}' for a in range(data['dias'])]]\n",
    "guardado_temp.extend([[f'Alimento {a}'] + [0 for a in range(data['dias'])] for a in range(data['alimentos'])])\n",
    "\n",
    "extra_temp = [['Día', 'Dinero Extra Usado', 'Surplus del día']]\n",
    "\n",
    "for i in comprado:\n",
    "    n = i.varname\n",
    "    dia = int(''.join(x for x in n[-4:] if x.isdecimal()))\n",
    "    alimento = int(''.join(x for x in n[-20:-9] if x.isdecimal()))\n",
    "    x = int(i.X)\n",
    "    comprado_temp[alimento + 1][dia + 1] = f'<b>{x}</b>' if x else 0\n",
    "\n",
    "print('Alimentos Comprados:')\n",
    "display(HTML(tabulate.tabulate(comprado_temp, tablefmt='html')))\n",
    "\n",
    "for i in usado:\n",
    "    n = i.varname\n",
    "    dia = int(''.join(x for x in n[-4:] if x.isdecimal()))\n",
    "    alimento = int(''.join(x for x in n[-20:-9] if x.isdecimal()))\n",
    "    x = int(i.X)\n",
    "    usado_temp[alimento + 1][dia + 1] = f'<b>{x}</b>' if x else 0\n",
    "\n",
    "print('Alimentos Usados:')\n",
    "display(HTML(tabulate.tabulate(usado_temp, tablefmt='html')))\n",
    "\n",
    "for i in guardado:\n",
    "    n = i.varname\n",
    "    dia = int(''.join(x for x in n[-4:] if x.isdecimal()))\n",
    "    alimento = int(''.join(x for x in n[-20:-9] if x.isdecimal()))\n",
    "    x = int(i.X)\n",
    "    guardado_temp[alimento + 1][dia + 1] = f'<b>{x}</b>' if x else 0\n",
    "\n",
    "for i in extra:\n",
    "    n = i.varname\n",
    "    dia = int(''.join(x for x in n[-4:] if x.isdecimal()))\n",
    "    x = int(i.X)\n",
    "    extra_temp.append([f'Día {dia}', f'<b>{x}</b>' if x else 0])\n",
    "\n",
    "for i in surplus:\n",
    "    n = i.varname\n",
    "    dia = int(''.join(x for x in n[-4:] if x.isdecimal()))\n",
    "    x = int(i.X)\n",
    "    if len(extra_temp[dia]) == 2 and dia <= data['dias']:\n",
    "        extra_temp[dia].append(f'<b>{x}</b>' if x else 0)\n",
    "\n",
    "print('Alimentos Guardados:')\n",
    "display(HTML(tabulate.tabulate(guardado_temp, tablefmt='html')))\n",
    "\n",
    "print('Dinero Diario Extra:')\n",
    "display(HTML(tabulate.tabulate(extra_temp, tablefmt='html')))\n",
    "\n",
    "print('Gasto total de dinero: %g' % m.objVal)"
   ]
  },
  {
   "cell_type": "code",
   "execution_count": null,
   "metadata": {},
   "outputs": [],
   "source": []
  }
 ],
 "metadata": {
  "kernelspec": {
   "display_name": "Python 3",
   "language": "python",
   "name": "python3"
  },
  "language_info": {
   "codemirror_mode": {
    "name": "ipython",
    "version": 3
   },
   "file_extension": ".py",
   "mimetype": "text/x-python",
   "name": "python",
   "nbconvert_exporter": "python",
   "pygments_lexer": "ipython3",
   "version": "3.7.3"
  }
 },
 "nbformat": 4,
 "nbformat_minor": 2
}
