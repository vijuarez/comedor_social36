{
 "cells": [
  {
   "cell_type": "markdown",
   "metadata": {},
   "source": [
    "# Proyecto Grupo 36 - Comedor Social\n",
    "\n",
    "Esta es la implementación en Gurobi del proyecto presentado por el grupo 36.\n",
    "\n",
    "Dado N días, consideramos los siguientes parámetros:\n",
    "\n",
    "* $g_i$: cantidad de gente que llega el día $i$.\n",
    "* $c_a$: costo del alimento $a$.\n",
    "* $cs$: sueldo fijo del trabajor remunerado. (mensual)\n",
    "* $dm_i$: donaciones monetarias recibidas el día $i$ (total, de todas las fuentes).\n",
    "* $dc_{ia}$: cantidad de alimento $a$ que fue recibido como donación el día $i$.\n",
    "* $e$: entrada que se cobra para comer (200 CLP)\n",
    "* $d_a$: duración del alimento $a$\n",
    "* $ap_a$: $\\begin{cases}\n",
    "                    1 & \\text{si alimento $a$ es rico en proteinas.} \\\\\n",
    "                    0 & \\text{otro caso.}\n",
    "                \\end{cases}$\n",
    "* $ac_a$: $\\begin{cases}\n",
    "                    1 & \\text{si alimento $a$ es rico en carbohidratos.} \\\\\n",
    "                    0 & \\text{otro caso.}\n",
    "                \\end{cases}$\n",
    "* $av_a$: $\\begin{cases}\n",
    "                    1 & \\text{si alimento $a$ es una verdura.} \\\\\n",
    "                    0 & \\text{otro caso.}\n",
    "                \\end{cases}$\n",
    "* $af_a$: $\\begin{cases}\n",
    "                    1 & \\text{si alimento $a$ es una fruta.} \\\\\n",
    "                    0 & \\text{otro caso.}\n",
    "                \\end{cases}$\n",
    "* $v_a$: volumen que ocupa el alimento $a$.\n",
    "* $vmax$: volumen máximo de alimentos que se pueden almacenar en despensa.\n",
    "* $amax_i$: cantidad máxima de alimentos que los cocineros están dispuestos a incluir en la confección de un plato el día $i$.\n",
    "\n",
    "Estos parámetros se encuentran en el archivo `data.json`."
   ]
  },
  {
   "cell_type": "code",
   "execution_count": 58,
   "metadata": {},
   "outputs": [
    {
     "name": "stdout",
     "output_type": "stream",
     "text": [
      "{'dias': 31, 'alimentos': 50, 'sueldo_fijo': 250000, 'vol_max': 500, 'amax': [1, 2, 3, 5, 5, 3, 1, 2, 2, 2, 2, 3, 4, 3, 3, 4, 4, 5, 2, 2, 2, 5, 3, 3, 3, 5, 4, 2, 4, 2, 5], 'donaciones_monetarias': [12821, 11530, 17744, 15003, 4272, 19313, 15587, 21292, 14926, 29786, 17069, 29567, 24720, 18775, 7230, 19985, 19186, 14441, 12709, 12708, 19427, 6105, 8578, 14527, 13592, 15968, 17499, 11289, 8751, 17331, 1438], 'visitas': [150, 122, 165, 152, 169, 133, 178, 183, 143, 150, 164, 118, 161, 137, 105, 138, 167, 178, 188, 161, 141, 160, 156, 153, 158, 162, 171, 130, 185, 154, 165], 'cantidad_alimento': [[13, 20, 3, 9, 16, 0, 4, 13, 8, 12, 15, 4, 6, 5, 11, 10, 3, 9, 9, 5, 1, 14, 12, 0, 9, 15, 15, 14, 3, 4, 1], [6, 12, 5, 7, 14, 1, 7, 7, 8, 10, 12, 7, 5, 8, 5, 8, 20, 13, 10, 0, 8, 19, 2, 10, 9, 6, 7, 7, 7, 1, 0], [5, 0, 10, 3, 0, 10, 13, 7, 15, 11, 13, 1, 12, 10, 0, 12, 16, 8, 10, 18, 6, 14, 3, 7, 3, 7, 9, 14, 6, 5, 13], [9, 8, 6, 7, 6, 8, 8, 0, 13, 13, 8, 1, 7, 2, 7, 15, 5, 10, 6, 2, 14, 5, 10, 9, 11, 8, 2, 11, 12, 11, 0], [4, 4, 9, 12, 5, 12, 10, 14, 4, 0, 10, 0, 0, 12, 13, 8, 6, 6, 13, 7, 12, 8, 1, 4, 18, 0, 10, 0, 6, 1, 8], [6, 3, 2, 11, 6, 8, 7, 12, 16, 6, 16, 8, 4, 11, 16, 7, 7, 7, 0, 9, 9, 5, 0, 19, 1, 5, 7, 8, 7, 0, 5], [14, 0, 8, 9, 5, 3, 1, 5, 4, 11, 13, 8, 5, 0, 12, 1, 9, 11, 9, 15, 7, 1, 11, 10, 10, 6, 12, 11, 4, 6, 15], [2, 9, 15, 8, 14, 3, 4, 6, 4, 7, 0, 5, 4, 4, 14, 11, 10, 4, 1, 15, 12, 7, 4, 6, 13, 0, 6, 13, 6, 10, 10], [1, 17, 3, 6, 7, 4, 7, 3, 8, 4, 3, 8, 8, 10, 0, 5, 2, 0, 10, 11, 5, 3, 9, 10, 7, 13, 0, 12, 11, 10, 10], [15, 2, 6, 3, 3, 5, 10, 15, 9, 3, 7, 8, 7, 5, 12, 16, 14, 16, 5, 14, 4, 12, 0, 11, 13, 9, 3, 14, 11, 3, 12], [6, 15, 0, 12, 8, 10, 0, 11, 9, 8, 11, 15, 0, 7, 4, 1, 11, 1, 7, 7, 5, 6, 7, 16, 8, 10, 5, 6, 6, 10, 7], [10, 11, 1, 15, 5, 8, 4, 3, 10, 14, 7, 3, 7, 9, 13, 7, 2, 6, 0, 6, 5, 14, 9, 11, 8, 6, 8, 2, 18, 3, 12], [7, 9, 10, 8, 0, 4, 8, 4, 8, 9, 6, 4, 8, 8, 8, 15, 7, 9, 19, 3, 15, 7, 11, 10, 3, 7, 1, 14, 13, 9, 10], [12, 1, 13, 0, 0, 6, 9, 14, 8, 6, 15, 0, 4, 6, 16, 8, 7, 6, 7, 0, 0, 0, 3, 8, 1, 12, 7, 1, 13, 6, 7], [9, 5, 4, 1, 14, 5, 9, 3, 15, 6, 3, 4, 12, 3, 6, 14, 0, 21, 22, 19, 9, 16, 8, 18, 3, 10, 13, 15, 8, 13, 12], [14, 18, 4, 11, 9, 5, 12, 6, 1, 12, 10, 3, 15, 12, 0, 0, 10, 11, 7, 1, 0, 15, 8, 6, 2, 0, 0, 8, 2, 6, 13], [1, 10, 0, 14, 4, 7, 7, 3, 7, 3, 10, 11, 8, 2, 0, 7, 11, 6, 9, 0, 4, 9, 0, 7, 2, 1, 6, 8, 6, 8, 11], [7, 9, 12, 4, 0, 10, 7, 8, 0, 2, 6, 3, 6, 12, 11, 1, 1, 12, 7, 5, 15, 14, 9, 12, 5, 7, 8, 9, 11, 10, 5], [15, 5, 12, 14, 0, 11, 1, 7, 13, 7, 10, 5, 13, 4, 6, 4, 10, 4, 6, 6, 3, 10, 6, 5, 4, 17, 13, 16, 1, 6, 8], [7, 9, 5, 8, 0, 4, 1, 8, 8, 12, 1, 12, 8, 7, 16, 12, 4, 5, 10, 7, 6, 14, 4, 10, 10, 11, 15, 2, 9, 7, 10], [13, 8, 6, 4, 6, 4, 12, 14, 0, 0, 13, 1, 6, 6, 9, 1, 9, 11, 2, 21, 5, 0, 7, 1, 10, 9, 6, 6, 0, 12, 6], [17, 4, 5, 9, 11, 16, 15, 0, 0, 12, 13, 8, 8, 1, 8, 9, 6, 9, 9, 8, 4, 3, 0, 7, 0, 15, 1, 15, 10, 12, 9], [5, 7, 0, 8, 12, 13, 4, 5, 6, 12, 11, 2, 5, 9, 9, 9, 8, 11, 10, 6, 7, 0, 15, 7, 5, 7, 0, 0, 0, 0, 14], [1, 0, 4, 3, 4, 11, 6, 14, 1, 9, 4, 0, 15, 1, 6, 7, 9, 18, 6, 4, 7, 4, 12, 6, 8, 8, 11, 4, 11, 8, 6], [6, 1, 6, 14, 6, 10, 3, 8, 7, 1, 10, 11, 3, 3, 4, 11, 10, 10, 9, 10, 3, 6, 12, 3, 1, 8, 14, 11, 12, 7, 4], [10, 9, 5, 8, 7, 10, 13, 0, 4, 0, 4, 8, 8, 14, 5, 6, 9, 9, 11, 6, 6, 12, 10, 7, 11, 2, 10, 10, 4, 10, 5], [3, 11, 14, 2, 12, 5, 6, 0, 6, 5, 10, 6, 5, 8, 15, 8, 11, 15, 8, 10, 13, 3, 8, 13, 16, 15, 9, 8, 7, 0, 6], [21, 12, 7, 8, 6, 8, 7, 6, 7, 13, 10, 2, 8, 8, 0, 6, 12, 12, 11, 9, 0, 6, 0, 10, 6, 7, 10, 1, 12, 1, 6], [7, 6, 17, 14, 3, 6, 7, 1, 2, 15, 7, 4, 4, 1, 4, 11, 10, 6, 4, 9, 6, 10, 3, 2, 5, 0, 7, 13, 20, 9, 3], [4, 15, 8, 8, 21, 13, 11, 5, 14, 8, 0, 6, 10, 5, 12, 11, 9, 1, 4, 11, 9, 2, 0, 14, 6, 7, 8, 3, 10, 14, 2], [2, 7, 4, 10, 9, 9, 20, 6, 14, 13, 13, 1, 9, 7, 4, 15, 8, 12, 6, 6, 9, 10, 8, 4, 4, 4, 4, 12, 13, 10, 9], [2, 4, 4, 5, 10, 9, 4, 0, 6, 13, 14, 7, 10, 8, 9, 11, 2, 6, 11, 14, 12, 11, 6, 0, 14, 2, 10, 0, 10, 17, 6], [8, 10, 7, 9, 8, 12, 6, 6, 9, 0, 6, 14, 10, 14, 3, 4, 12, 8, 5, 10, 6, 3, 3, 9, 2, 1, 5, 7, 6, 12, 16], [10, 0, 7, 4, 6, 7, 4, 8, 5, 3, 9, 10, 11, 17, 8, 10, 7, 7, 5, 8, 2, 11, 11, 6, 2, 9, 10, 5, 11, 0, 7], [2, 8, 12, 16, 2, 15, 8, 8, 7, 8, 4, 13, 13, 12, 13, 7, 4, 6, 11, 11, 10, 6, 7, 5, 3, 5, 9, 10, 1, 11, 4], [13, 14, 15, 14, 6, 3, 14, 1, 7, 0, 4, 3, 7, 6, 4, 0, 12, 6, 18, 13, 10, 3, 11, 10, 15, 13, 8, 12, 8, 15, 2], [0, 5, 9, 9, 12, 7, 10, 6, 10, 12, 9, 0, 15, 17, 7, 2, 5, 13, 12, 7, 4, 20, 14, 2, 8, 11, 2, 11, 1, 7, 3], [14, 10, 17, 11, 13, 5, 12, 10, 4, 6, 10, 7, 8, 8, 10, 6, 16, 5, 7, 9, 7, 12, 8, 11, 14, 0, 13, 6, 7, 18, 0], [7, 7, 14, 12, 7, 5, 2, 1, 4, 3, 10, 1, 14, 15, 7, 8, 7, 9, 8, 6, 1, 1, 0, 10, 11, 4, 0, 4, 12, 9, 13], [7, 3, 10, 10, 10, 1, 6, 22, 8, 16, 13, 6, 10, 16, 12, 8, 17, 8, 15, 1, 2, 9, 0, 6, 5, 7, 15, 10, 2, 7, 10], [16, 6, 9, 0, 8, 5, 4, 19, 13, 6, 3, 10, 11, 0, 7, 5, 1, 17, 10, 1, 5, 10, 5, 0, 13, 2, 11, 10, 0, 5, 15], [2, 7, 14, 17, 8, 3, 6, 5, 10, 9, 11, 2, 1, 11, 15, 14, 4, 3, 8, 10, 5, 0, 10, 8, 10, 9, 3, 2, 11, 8, 10], [4, 10, 20, 8, 5, 6, 1, 8, 1, 11, 12, 2, 7, 6, 5, 16, 9, 15, 1, 16, 1, 10, 11, 5, 8, 12, 5, 5, 13, 12, 5], [7, 1, 0, 9, 1, 5, 9, 10, 11, 3, 9, 7, 5, 11, 6, 4, 0, 11, 7, 11, 6, 9, 9, 17, 6, 9, 0, 7, 13, 17, 2], [0, 3, 16, 2, 12, 3, 14, 2, 8, 7, 4, 0, 4, 6, 12, 15, 9, 4, 0, 10, 11, 3, 3, 6, 3, 4, 12, 10, 0, 14, 1], [0, 3, 5, 6, 8, 7, 10, 9, 9, 12, 3, 12, 14, 6, 3, 16, 7, 16, 3, 15, 5, 9, 5, 8, 0, 4, 5, 7, 3, 9, 11], [8, 7, 5, 2, 6, 3, 10, 9, 11, 3, 12, 12, 13, 2, 1, 15, 0, 8, 12, 17, 0, 3, 11, 5, 10, 7, 5, 13, 4, 2, 13], [13, 11, 9, 2, 10, 9, 13, 5, 8, 2, 6, 4, 6, 8, 7, 4, 6, 12, 4, 15, 11, 9, 9, 8, 5, 5, 10, 10, 16, 9, 5], [2, 7, 8, 7, 3, 0, 11, 3, 9, 5, 6, 14, 6, 11, 5, 0, 8, 12, 0, 7, 14, 3, 6, 5, 13, 5, 11, 10, 11, 12, 5], [0, 19, 8, 4, 3, 17, 15, 17, 3, 5, 10, 8, 8, 11, 7, 16, 13, 18, 4, 7, 3, 4, 5, 10, 6, 16, 14, 0, 5, 13, 11]], 'entrada': 200, 'volumen_alimentos': [1, 1, 1, 1, 1, 1, 1, 1, 1, 1, 1, 1, 1, 1, 1, 1, 1, 1, 1, 1, 1, 1, 1, 1, 1, 1, 1, 1, 1, 1, 1, 1, 1, 1, 1, 1, 1, 1, 1, 1, 1, 1, 1, 1, 1, 1, 1, 1, 1, 1], 'duracion_alimentos': [18, 35, 33, 10, 10, 11, 10, 27, 18, 10, 10, 12, 11, 30, 10, 10, 19, 35, 10, 24, 24, 32, 17, 17, 16, 24, 25, 19, 18, 19, 14, 27, 24, 10, 10, 18, 24, 10, 10, 10, 24, 10, 18, 23, 19, 15, 22, 24, 20, 26], 'costo_alimento': [100, 916, 846, 1840, 1396, 719, 834, 700, 100, 785, 1145, 100, 143, 100, 904, 353, 1543, 350, 1926, 1233, 1707, 901, 100, 1863, 372, 565, 249, 1848, 110, 1194, 558, 100, 1607, 522, 1454, 747, 447, 100, 100, 310, 1403, 898, 635, 299, 779, 734, 1630, 1540, 1203, 952], 'verdura': [0, 1, 0, 0, 0, 0, 0, 1, 0, 0, 0, 0, 0, 0, 0, 1, 1, 0, 1, 1, 0, 0, 0, 1, 1, 1, 1, 0, 0, 0, 1, 0, 0, 1, 0, 0, 0, 1, 1, 0, 0, 0, 0, 0, 0, 0, 1, 0, 0, 0], 'fruta': [0, 0, 1, 0, 1, 1, 1, 0, 0, 1, 1, 1, 1, 1, 0, 0, 0, 0, 0, 0, 1, 0, 0, 0, 0, 0, 0, 1, 1, 1, 0, 1, 1, 0, 1, 0, 1, 0, 0, 1, 0, 1, 1, 1, 1, 0, 0, 0, 0, 0], 'proteina': [1, 0, 0, 0, 0, 0, 0, 0, 0, 0, 0, 0, 0, 0, 0, 1, 0, 1, 0, 0, 0, 1, 1, 0, 1, 0, 1, 0, 0, 0, 1, 0, 0, 1, 0, 0, 0, 1, 0, 0, 0, 0, 0, 0, 0, 1, 0, 1, 0, 0], 'carbohidrato': [1, 0, 1, 0, 1, 0, 1, 0, 0, 1, 0, 1, 1, 1, 1, 0, 1, 1, 1, 0, 0, 1, 1, 1, 0, 0, 0, 1, 1, 1, 0, 0, 0, 0, 0, 0, 0, 1, 0, 1, 0, 1, 0, 1, 0, 1, 0, 0, 1, 0]}\n"
     ]
    }
   ],
   "source": [
    "from gurobipy import *\n",
    "import json\n",
    "\n",
    "# Create a new model\n",
    "m = Model(\"Comedor social\")\n",
    "\n",
    "# parametros\n",
    "\n",
    "with open('data.json') as f:\n",
    "    data = json.loads(f.read())\n",
    "\n",
    "print(data)"
   ]
  },
  {
   "cell_type": "markdown",
   "metadata": {},
   "source": [
    "## Variables\n",
    "* $x_{ai}$: cantidad de alimento $a$ que se compra en el día $i$.\n",
    "* $y_{ai}$ : cantidad de alimento $a$ que se utiliza en el día $i$\n",
    "* $I_{ai}$: cantidad del alimento $a$ que se almacena el día $i$."
   ]
  },
  {
   "cell_type": "code",
   "execution_count": 59,
   "metadata": {},
   "outputs": [],
   "source": [
    "# Create variables\n",
    "X = [[m.addVar(vtype=GRB.INTEGER, name=f\"Alimento {a} comprado dia {i}\") for a in range(data['alimentos'])] for i in range(data['dias'])]\n",
    "Y = [[m.addVar(vtype=GRB.INTEGER, name=f\"Alimento {a} usado dia {i}\") for a in range(data['alimentos'])] for i in range(data['dias'])]\n",
    "I = [[m.addVar(vtype=GRB.INTEGER, name=f\"Alimento {a} almacenado dia {i}\") for a in range(data['alimentos'])] for i in range(data['dias'])]"
   ]
  },
  {
   "cell_type": "markdown",
   "metadata": {},
   "source": [
    "## Función objetivo\n",
    "$$\\text{min} \\sum_{a \\in A} \\sum_{i \\in D} c_a x_{ai}$$"
   ]
  },
  {
   "cell_type": "code",
   "execution_count": 60,
   "metadata": {},
   "outputs": [],
   "source": [
    "# Set objective\n",
    "m.setObjective(sum(sum(data['costo_alimento'][a] * X[i][a] for a in range(data['alimentos'])) for i in range(data['dias'])), GRB.MINIMIZE)"
   ]
  },
  {
   "cell_type": "markdown",
   "metadata": {},
   "source": [
    "# Restricciones\n",
    "\n",
    "* Límite de gastos: el gasto diario de dinero no puede superar lo obtenido en donaciones ese día más lo que haya sobrado (lo obtenido menos lo gastado) de los días anteriores. Se incluye el costo diario que significa tener un trabajador remunerado.\n",
    "    $$\\sum_{a \\in A} c_a x_{ai} \\leq dm_i + \\sum_{k=1}^{i-1} (dm_k + g_k e - \\frac{cs}{30.5} - \\sum_{a \\in A} c_a x_{ak})   \\quad\\quad\\quad     \\forall i \\in D$$\n",
    "* No se puede usar más de lo que se tiene\n",
    "    $$y_{ai} \\leq x_{ai} + I_{a(i-1)}     \\quad\\quad\\quad     \\forall a \\in A, \\forall i \\in D$$\n",
    "* Inventario inicial\n",
    "    $$I_{a0} = 0     \\quad\\quad\\quad     \\forall a \\in A$$\n",
    "* Límite de almacenamiento\n",
    "    $$\\sum_{a \\in A} I_{ai} v_a \\leq vmax     \\quad\\quad\\quad     \\forall i \\in D$$\n",
    "* Una proteina mínimo por comida\n",
    "    $$ \\sum_{a \\in A} y_{ai}  ap_a \\geq g_i \\quad\\quad\\quad \\forall i \\in D $$\n",
    "* Un carbohidrato mínimo por comida\n",
    "    $$ \\sum_{a \\in A} y_{ai}  ac_a \\geq g_i \\quad\\quad\\quad \\forall i \\in D $$\n",
    "* Una verdura mínimo por comida\n",
    "    $$ \\sum_{a \\in A} y_{ai}  av_a \\geq g_i \\quad\\quad\\quad \\forall i \\in D $$\n",
    "* Una fruta mínimo por comida\n",
    "    $$ \\sum_{a \\in A} y_{ai}  af_a \\geq g_i \\quad\\quad\\quad \\forall i \\in D $$\n",
    "* Máximo de alimentos por plato de comida\n",
    "    $$ \\sum_{a \\in A} (y_{ai} af_a + y_{ai} av_a + y_{ai} ac_a + y_{ai} ap_a) \\leq amax_i g_i \\quad\\quad\\quad \\forall i \\in D$$\n",
    "* Caducidad de los Alimentos: para cada día y cada alimento, la totalidad de alimentos de cierto tipo recibidos (ya sea por compra o por donación) debe haberse utilizado en tantos días en el futuro como la caducidad de ese alimento. Como los alimentos más viejos siempre se utilizan primero, esto significa que para la fecha que los alimentos vencerian estos ya deben haber sido utilizados. La condición también se cumple en días que no ha habido compra o donación, siempre y cuando se cumpla en el día de la última compra/donación.\n",
    "    $$ \\sum_{j=1}^{i} (dc_{ja} + x_{aj}) \\leq \\sum_{j=1}^{i + d_a} y_{ja} \\quad\\quad\\quad \\forall a \\in A, \\forall i \\in D$$\n",
    "* Naturaleza de variables\n",
    "    $$x_{ai} \\geq 0     \\quad\\quad\\quad     \\forall a \\in A, \\forall i \\in D$$\n",
    "    $$y_{ai} \\geq 0     \\quad\\quad\\quad     \\forall a \\in A, \\forall i \\in D$$\n",
    "    $$I_{ai} \\geq 0     \\quad\\quad\\quad     \\forall a \\in A, \\forall i \\in D$$\n",
    "    $$x_{ai}, y_{ai}, I_{ai} \\in \\mathbb{N}\\cup\\{0\\}     \\quad\\quad\\quad     \\forall a \\in A, \\forall i \\in D$$"
   ]
  },
  {
   "cell_type": "code",
   "execution_count": 64,
   "metadata": {},
   "outputs": [],
   "source": [
    "# Add constraint\n",
    "for a in range(data['alimentos']):\n",
    "    m.addConstr(I[0][a] <= 0, f\"Inventario inicial del alimento {a}\")\n",
    "\n",
    "for i in range(data['dias']):\n",
    "    m.addConstr(sum(data['costo_alimento'][a] * X[i][a] for a in range(data['alimentos'])) <= data['donaciones_monetarias'][i] + data['visitas'][i] * data['entrada'] - (data['sueldo_fijo'] / 30.5) + sum(data['donaciones_monetarias'][k] + data['visitas'][k] * data['entrada'] - (data['sueldo_fijo'] / 30.5) - sum(data['costo_alimento'][c] * X[k][c] for c in range(data['alimentos'])) for k in range(0, data['dias'] - 1)),\n",
    "                f\"Límite de gastos en el día {i}\")\n",
    "    m.addConstr(sum(I[i][a] * data['volumen_alimentos'][a] for a in range(data['alimentos'])) <= data['vol_max'],\n",
    "                f\"Límite de almacenamiento día {i}\")\n",
    "    m.addConstr(sum(Y[i][a] * data['proteina'][a] for a in range(data['alimentos'])) >= data['visitas'][i],\n",
    "                f\"Una proteina mínimo por comida día {i}\")\n",
    "    m.addConstr(sum(Y[i][a] * data['carbohidrato'][a] for a in range(data['alimentos'])) >= data['visitas'][i],\n",
    "                f\"Un carbohidrato mínimo por comida día {i}\")\n",
    "    m.addConstr(sum(Y[i][a] * data['verdura'][a] for a in range(data['alimentos'])) >= data['visitas'][i],\n",
    "                f\"Una verdura mínimo por comida día {i}\")\n",
    "    m.addConstr(sum(Y[i][a] * data['fruta'][a] for a in range(data['alimentos'])) >= data['visitas'][i],\n",
    "                f\"Una fruta mínimo por comida día {i}\")\n",
    "    m.addConstr(sum(Y[i][a] * (data['proteina'][a] + data['carbohidrato'][a] + data['verdura'][a] + data['fruta'][a]) for a in range(data['alimentos'])) <= data['amax'][i] * data['visitas'][i],\n",
    "                f\"Máximo de alimentos por plato de comida día {i}\")\n",
    "    for a in range(data['alimentos']):\n",
    "        m.addConstr(Y[i][a] <= X[i][a] + I[max(0, i - 1)][a],\n",
    "                f\"No se puede usar más de lo que se tiene \")\n",
    "        s = sum(data['cantidad_alimento'][a][j] + X[j][a] for j in range(0, i + 1))\n",
    "        y = sum(Y[k][a] for k in range(0, min(data['dias'] - 1, i + data['duracion_alimentos'][a])))\n",
    "        m.addConstr(s <= y,\n",
    "                f\"Caducidad de los Alimentos\")\n",
    "        m.addConstr(X[i][a] >= 0, f\"Naturaleza de X en dia {i} y alimento {a}\")\n",
    "        m.addConstr(Y[i][a] >= 0, f\"Naturaleza de Y en dia {i} y alimento {a}\")\n",
    "        m.addConstr(I[i][a] >= 0, f\"Naturaleza de I en dia {i} y alimento {a}\")\n",
    "    "
   ]
  },
  {
   "cell_type": "markdown",
   "metadata": {},
   "source": [
    "# Resultado"
   ]
  },
  {
   "cell_type": "code",
   "execution_count": 65,
   "metadata": {},
   "outputs": [
    {
     "name": "stdout",
     "output_type": "stream",
     "text": [
      "Optimize a model with 8206 rows, 4650 columns and 132691 nonzeros\n",
      "Variable types: 0 continuous, 4650 integer (0 binary)\n",
      "Coefficient statistics:\n",
      "  Matrix range     [1e+00, 4e+03]\n",
      "  Objective range  [1e+02, 2e+03]\n",
      "  Bounds range     [0e+00, 0e+00]\n",
      "  RHS range        [1e+00, 1e+06]\n",
      "Presolve removed 4995 rows and 254 columns\n",
      "Presolve time: 0.25s\n",
      "\n",
      "Explored 0 nodes (0 simplex iterations) in 0.45 seconds\n",
      "Thread count was 1 (of 2 available processors)\n",
      "\n",
      "Solution count 0\n",
      "\n",
      "Model is infeasible\n",
      "Best objective -, best bound -, gap -\n"
     ]
    },
    {
     "ename": "AttributeError",
     "evalue": "b\"Unable to retrieve attribute 'X'\"",
     "output_type": "error",
     "traceback": [
      "\u001b[0;31m---------------------------------------------------------------------------\u001b[0m",
      "\u001b[0;31mAttributeError\u001b[0m                            Traceback (most recent call last)",
      "\u001b[0;32m<ipython-input-65-7b7dd32da0a8>\u001b[0m in \u001b[0;36m<module>\u001b[0;34m\u001b[0m\n\u001b[1;32m      2\u001b[0m \u001b[0;34m\u001b[0m\u001b[0m\n\u001b[1;32m      3\u001b[0m \u001b[0;32mfor\u001b[0m \u001b[0mv\u001b[0m \u001b[0;32min\u001b[0m \u001b[0mm\u001b[0m\u001b[0;34m.\u001b[0m\u001b[0mgetVars\u001b[0m\u001b[0;34m(\u001b[0m\u001b[0;34m)\u001b[0m\u001b[0;34m:\u001b[0m\u001b[0;34m\u001b[0m\u001b[0;34m\u001b[0m\u001b[0m\n\u001b[0;32m----> 4\u001b[0;31m     \u001b[0mprint\u001b[0m\u001b[0;34m(\u001b[0m\u001b[0;34m'%s %g'\u001b[0m \u001b[0;34m%\u001b[0m \u001b[0;34m(\u001b[0m\u001b[0mv\u001b[0m\u001b[0;34m.\u001b[0m\u001b[0mvarName\u001b[0m\u001b[0;34m,\u001b[0m \u001b[0mv\u001b[0m\u001b[0;34m.\u001b[0m\u001b[0mX\u001b[0m\u001b[0;34m)\u001b[0m\u001b[0;34m)\u001b[0m\u001b[0;34m\u001b[0m\u001b[0;34m\u001b[0m\u001b[0m\n\u001b[0m\u001b[1;32m      5\u001b[0m     \u001b[0mprint\u001b[0m\u001b[0;34m(\u001b[0m\u001b[0;34m'%s %g'\u001b[0m \u001b[0;34m%\u001b[0m \u001b[0;34m(\u001b[0m\u001b[0mv\u001b[0m\u001b[0;34m.\u001b[0m\u001b[0mvarName\u001b[0m\u001b[0;34m,\u001b[0m \u001b[0mv\u001b[0m\u001b[0;34m.\u001b[0m\u001b[0mY\u001b[0m\u001b[0;34m)\u001b[0m\u001b[0;34m)\u001b[0m\u001b[0;34m\u001b[0m\u001b[0;34m\u001b[0m\u001b[0m\n\u001b[1;32m      6\u001b[0m     \u001b[0mprint\u001b[0m\u001b[0;34m(\u001b[0m\u001b[0;34m'%s %g'\u001b[0m \u001b[0;34m%\u001b[0m \u001b[0;34m(\u001b[0m\u001b[0mv\u001b[0m\u001b[0;34m.\u001b[0m\u001b[0mvarName\u001b[0m\u001b[0;34m,\u001b[0m \u001b[0mv\u001b[0m\u001b[0;34m.\u001b[0m\u001b[0mI\u001b[0m\u001b[0;34m)\u001b[0m\u001b[0;34m)\u001b[0m\u001b[0;34m\u001b[0m\u001b[0;34m\u001b[0m\u001b[0m\n",
      "\u001b[0;32mvar.pxi\u001b[0m in \u001b[0;36mgurobipy.Var.__getattr__\u001b[0;34m()\u001b[0m\n",
      "\u001b[0;32mvar.pxi\u001b[0m in \u001b[0;36mgurobipy.Var.getAttr\u001b[0;34m()\u001b[0m\n",
      "\u001b[0;31mAttributeError\u001b[0m: b\"Unable to retrieve attribute 'X'\""
     ]
    }
   ],
   "source": [
    "m.optimize()\n",
    "\n",
    "for v in m.getVars():\n",
    "    print('%s %g' % (v.varName, v.X))\n",
    "    print('%s %g' % (v.varName, v.Y))\n",
    "    print('%s %g' % (v.varName, v.I))\n",
    "\n",
    "print('Obj: %g' % m.objVal)"
   ]
  },
  {
   "cell_type": "code",
   "execution_count": null,
   "metadata": {},
   "outputs": [],
   "source": []
  }
 ],
 "metadata": {
  "kernelspec": {
   "display_name": "Python 3",
   "language": "python",
   "name": "python3"
  },
  "language_info": {
   "codemirror_mode": {
    "name": "ipython",
    "version": 3
   },
   "file_extension": ".py",
   "mimetype": "text/x-python",
   "name": "python",
   "nbconvert_exporter": "python",
   "pygments_lexer": "ipython3",
   "version": "3.7.3"
  }
 },
 "nbformat": 4,
 "nbformat_minor": 2
}
